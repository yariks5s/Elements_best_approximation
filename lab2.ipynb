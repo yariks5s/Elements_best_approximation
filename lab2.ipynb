{
 "cells": [
  {
   "cell_type": "code",
   "execution_count": 1,
   "metadata": {},
   "outputs": [],
   "source": [
    "# import all dictionaries\n",
    "import math\n",
    "import matplotlib.pyplot as plt\n",
    "import numpy as np"
   ]
  },
  {
   "cell_type": "code",
   "execution_count": 2,
   "metadata": {},
   "outputs": [
    {
     "data": {
      "image/png": "[encoded data removed]",
      "text/plain": [
       "<Figure size 600x600 with 1 Axes>"
      ]
     },
     "metadata": {},
     "output_type": "display_data"
    }
   ],
   "source": [
    "def plot_ray(point, angle_degrees, length=1):\n",
    "    # Перетворення кута з градусів в радіани\n",
    "    angle_radians = np.radians(angle_degrees)\n",
    "\n",
    "    # Обчислення кінцевої точки прямої\n",
    "    end_point = [\n",
    "        point[0] + length * np.cos(angle_radians),\n",
    "        point[1] + length * np.sin(angle_radians)\n",
    "    ]\n",
    "\n",
    "    # Побудова прямої\n",
    "    plt.plot([point[0], end_point[0]], [point[1], end_point[1]])\n",
    "\n",
    "# Координати точки і кут у градусах\n",
    "point = [1, 4]\n",
    "angle = 11\n",
    "\n",
    "# Довжина прямої\n",
    "length = 5\n",
    "\n",
    "# Створення графіку\n",
    "plt.figure(figsize=(6, 6))\n",
    "\n",
    "# Виклик функції для побудови прямої\n",
    "plot_ray(point, angle, length)\n",
    "\n",
    "# Встановлення аспектного відношення для забезпечення правильного вигляду прямих\n",
    "plt.gca().set_aspect('equal', adjustable='box')\n",
    "\n",
    "# Додавання маркера у вказану точку\n",
    "plt.scatter(point[0], point[1], color='red', marker='o', label='Point1')\n",
    "\n",
    "# Вивід легенди\n",
    "plt.legend()\n",
    "\n",
    "# Відображення графіку\n",
    "plt.show()"
   ]
  },
  {
   "cell_type": "code",
   "execution_count": 3,
   "metadata": {},
   "outputs": [],
   "source": [
    "class object():\n",
    "    pos_x: float\n",
    "    pos_y: float\n",
    "    angle: float\n",
    "\n",
    "coord1 = (5,3)"
   ]
  },
  {
   "cell_type": "code",
   "execution_count": null,
   "metadata": {},
   "outputs": [],
   "source": []
  }
 ],
 "metadata": {
  "kernelspec": {
   "display_name": "Python 3",
   "language": "python",
   "name": "python3"
  },
  "language_info": {
   "codemirror_mode": {
    "name": "ipython",
    "version": 3
   },
   "file_extension": ".py",
   "mimetype": "text/x-python",
   "name": "python",
   "nbconvert_exporter": "python",
   "pygments_lexer": "ipython3",
   "version": "3.11.6"
  },
  "orig_nbformat": 4
 },
 "nbformat": 4,
 "nbformat_minor": 2
}
